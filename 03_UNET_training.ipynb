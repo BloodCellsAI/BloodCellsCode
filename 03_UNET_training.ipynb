{
 "cells": [
  {
   "cell_type": "code",
   "execution_count": 1,
   "metadata": {},
   "outputs": [],
   "source": [
    "import os\n",
    "import pandas as pd\n",
    "from skimage import io\n",
    "import numpy as np\n",
    "import matplotlib.pyplot as plt\n",
    "import cv2\n",
    "from skimage import io\n",
    "from tqdm import tqdm\n",
    "from datetime import datetime\n",
    "\n",
    "import tensorflow as tf"
   ]
  },
  {
   "cell_type": "code",
   "execution_count": 2,
   "metadata": {},
   "outputs": [
    {
     "data": {
      "text/html": [
       "<div>\n",
       "<style scoped>\n",
       "    .dataframe tbody tr th:only-of-type {\n",
       "        vertical-align: middle;\n",
       "    }\n",
       "\n",
       "    .dataframe tbody tr th {\n",
       "        vertical-align: top;\n",
       "    }\n",
       "\n",
       "    .dataframe thead th {\n",
       "        text-align: right;\n",
       "    }\n",
       "</style>\n",
       "<table border=\"1\" class=\"dataframe\">\n",
       "  <thead>\n",
       "    <tr style=\"text-align: right;\">\n",
       "      <th></th>\n",
       "      <th>image_path</th>\n",
       "      <th>mask_path</th>\n",
       "    </tr>\n",
       "  </thead>\n",
       "  <tbody>\n",
       "    <tr>\n",
       "      <th>0</th>\n",
       "      <td>../Data/PBC_base_Masks/Images/BA_100102.png</td>\n",
       "      <td>../Data/PBC_base_Masks/Label/label_BA_100102.png</td>\n",
       "    </tr>\n",
       "    <tr>\n",
       "      <th>1</th>\n",
       "      <td>../Data/PBC_base_Masks/Images/BA_101381.png</td>\n",
       "      <td>../Data/PBC_base_Masks/Label/label_BA_101381.png</td>\n",
       "    </tr>\n",
       "    <tr>\n",
       "      <th>2</th>\n",
       "      <td>../Data/PBC_base_Masks/Images/BA_101611.png</td>\n",
       "      <td>../Data/PBC_base_Masks/Label/label_BA_101611.png</td>\n",
       "    </tr>\n",
       "    <tr>\n",
       "      <th>3</th>\n",
       "      <td>../Data/PBC_base_Masks/Images/BA_102039.png</td>\n",
       "      <td>../Data/PBC_base_Masks/Label/label_BA_102039.png</td>\n",
       "    </tr>\n",
       "    <tr>\n",
       "      <th>4</th>\n",
       "      <td>../Data/PBC_base_Masks/Images/BA_102750.png</td>\n",
       "      <td>../Data/PBC_base_Masks/Label/label_BA_102750.png</td>\n",
       "    </tr>\n",
       "  </tbody>\n",
       "</table>\n",
       "</div>"
      ],
      "text/plain": [
       "                                    image_path  \\\n",
       "0  ../Data/PBC_base_Masks/Images/BA_100102.png   \n",
       "1  ../Data/PBC_base_Masks/Images/BA_101381.png   \n",
       "2  ../Data/PBC_base_Masks/Images/BA_101611.png   \n",
       "3  ../Data/PBC_base_Masks/Images/BA_102039.png   \n",
       "4  ../Data/PBC_base_Masks/Images/BA_102750.png   \n",
       "\n",
       "                                          mask_path  \n",
       "0  ../Data/PBC_base_Masks/Label/label_BA_100102.png  \n",
       "1  ../Data/PBC_base_Masks/Label/label_BA_101381.png  \n",
       "2  ../Data/PBC_base_Masks/Label/label_BA_101611.png  \n",
       "3  ../Data/PBC_base_Masks/Label/label_BA_102039.png  \n",
       "4  ../Data/PBC_base_Masks/Label/label_BA_102750.png  "
      ]
     },
     "execution_count": 2,
     "metadata": {},
     "output_type": "execute_result"
    }
   ],
   "source": [
    "IMG_PATH = '../Data/PBC_base_Masks/Images'\n",
    "MASK_PATH = '../Data/PBC_base_Masks/Label'\n",
    "\n",
    "input_img_paths = sorted(\n",
    "    [\n",
    "        os.path.join(IMG_PATH, fname)\n",
    "        for fname in os.listdir(IMG_PATH)\n",
    "        if fname.endswith(\".png\") and not fname.startswith(\".\")\n",
    "    ]\n",
    ")\n",
    "masks_img_paths = sorted(\n",
    "    [\n",
    "        os.path.join(MASK_PATH, fname)\n",
    "        for fname in os.listdir(MASK_PATH)\n",
    "        if fname.endswith(\".png\") and not fname.startswith(\".\")\n",
    "    ]\n",
    ")\n",
    "\n",
    "df = pd.DataFrame(zip(input_img_paths, masks_img_paths), columns=['image_path', 'mask_path'])\n",
    "df.to_csv('df.csv')\n",
    "df.head()"
   ]
  },
  {
   "cell_type": "code",
   "execution_count": 3,
   "metadata": {},
   "outputs": [],
   "source": [
    "def mask_thresh(mask_image):\n",
    "    _, mask = cv2.threshold(mask_image, 0, 1, cv2.THRESH_BINARY)\n",
    "    mask = np.expand_dims(mask, -1)\n",
    "    return mask"
   ]
  },
  {
   "cell_type": "code",
   "execution_count": 4,
   "metadata": {},
   "outputs": [
    {
     "name": "stdout",
     "output_type": "stream",
     "text": [
      "Found 1134 validated image filenames.\n",
      "Found 1134 validated image filenames.\n"
     ]
    }
   ],
   "source": [
    "IMG_SHAPE = 128\n",
    "BATCH_SIZE = 32\n",
    "\n",
    "image_datagen = tf.keras.preprocessing.image.ImageDataGenerator(\n",
    "    #rotation_range=20,\n",
    "    #width_shift_range=0.1,\n",
    "    #height_shift_range=0.1,\n",
    "    #validation_split=0.2,\n",
    "    preprocessing_function=lambda x: x/255\n",
    ")\n",
    "mask_datagen = tf.keras.preprocessing.image.ImageDataGenerator(\n",
    "    #rotation_range=20,\n",
    "    #width_shift_range=0.1,\n",
    "    #height_shift_range=0.1,\n",
    "    #fill_mode=\"constant\",\n",
    "    #cval=2\n",
    "    #validation_split=0.2,\n",
    "    preprocessing_function=lambda x: mask_thresh(x)\n",
    ")\n",
    "\n",
    "image_train_generator = image_datagen.flow_from_dataframe(\n",
    "    dataframe=df,\n",
    "    target_size=(IMG_SHAPE,IMG_SHAPE),\n",
    "    interpolation='bicubic',\n",
    "    x_col='image_path',\n",
    "    class_mode=None,\n",
    "    shuffle=False\n",
    ")\n",
    "mask_train_generator = mask_datagen.flow_from_dataframe(\n",
    "    dataframe=df,\n",
    "    target_size=(IMG_SHAPE,IMG_SHAPE),\n",
    "    interpolation='bicubic',\n",
    "    x_col='mask_path',\n",
    "    class_mode=None,\n",
    "    color_mode='grayscale',\n",
    "    shuffle=False\n",
    ")\n",
    "\"\"\" image_val_generator = image_datagen.flow_from_dataframe(\n",
    "    dataframe=df,\n",
    "    target_size=(IMG_SHAPE,IMG_SHAPE),\n",
    "    interpolation='bicubic',\n",
    "    x_col='image_path',\n",
    "    class_mode=None,\n",
    "    shuffle=False,\n",
    "    subset='validation'\n",
    ")\n",
    "mask_val_generator = mask_datagen.flow_from_dataframe(\n",
    "    dataframe=df,\n",
    "    target_size=(IMG_SHAPE,IMG_SHAPE),\n",
    "    interpolation='bicubic',\n",
    "    x_col='mask_path',\n",
    "    class_mode=None,\n",
    "    color_mode='grayscale',\n",
    "    shuffle=False,\n",
    "    subset='validation'\n",
    ") \"\"\"\n",
    "\n",
    "train_ds = zip(image_train_generator, mask_train_generator)\n",
    "#val_ds = zip(image_val_generator, mask_val_generator)"
   ]
  },
  {
   "cell_type": "code",
   "execution_count": 5,
   "metadata": {},
   "outputs": [
    {
     "name": "stdout",
     "output_type": "stream",
     "text": [
      "Metal device set to: Apple M1\n",
      "\n",
      "systemMemory: 8.00 GB\n",
      "maxCacheSize: 2.67 GB\n",
      "\n"
     ]
    },
    {
     "name": "stderr",
     "output_type": "stream",
     "text": [
      "2023-04-21 11:53:35.341215: I tensorflow/core/common_runtime/pluggable_device/pluggable_device_factory.cc:306] Could not identify NUMA node of platform GPU ID 0, defaulting to 0. Your kernel may not have been built with NUMA support.\n",
      "2023-04-21 11:53:35.341608: I tensorflow/core/common_runtime/pluggable_device/pluggable_device_factory.cc:272] Created TensorFlow device (/job:localhost/replica:0/task:0/device:GPU:0 with 0 MB memory) -> physical PluggableDevice (device: 0, name: METAL, pci bus id: <undefined>)\n"
     ]
    }
   ],
   "source": [
    "from tensorflow.keras.models import Model\n",
    "from tensorflow.keras.layers import *\n",
    "\n",
    "nb_class = 2\n",
    "\n",
    "inputs = Input((128,128,3))\n",
    "conv1 = Conv2D(16, 3, activation = 'relu', padding = 'same', kernel_initializer = 'he_normal')(inputs)\n",
    "conv1 = Conv2D(16, 3, activation = 'relu', padding = 'same', kernel_initializer = 'he_normal')(conv1)\n",
    "pool1 = MaxPooling2D(pool_size=(2, 2))(conv1)\n",
    "conv2 = Conv2D(32, 3, activation = 'relu', padding = 'same', kernel_initializer = 'he_normal')(pool1)\n",
    "conv2 = Conv2D(32, 3, activation = 'relu', padding = 'same', kernel_initializer = 'he_normal')(conv2)\n",
    "pool2 = MaxPooling2D(pool_size=(2, 2))(conv2)\n",
    "conv3 = Conv2D(64, 3, activation = 'relu', padding = 'same', kernel_initializer = 'he_normal')(pool2)\n",
    "conv3 = Conv2D(64, 3, activation = 'relu', padding = 'same', kernel_initializer = 'he_normal')(conv3)\n",
    "pool3 = MaxPooling2D(pool_size=(2, 2))(conv3)\n",
    "conv4 = Conv2D(128, 3, activation = 'relu', padding = 'same', kernel_initializer = 'he_normal')(pool3)\n",
    "conv4 = Conv2D(128, 3, activation = 'relu', padding = 'same', kernel_initializer = 'he_normal')(conv4)\n",
    "drop4 = Dropout(0.5)(conv4)\n",
    "pool4 = MaxPooling2D(pool_size=(2, 2))(drop4)\n",
    "\n",
    "conv5 = Conv2D(256, 3, activation = 'relu', padding = 'same', kernel_initializer = 'he_normal')(pool4)\n",
    "conv5 = Conv2D(256, 3, activation = 'relu', padding = 'same', kernel_initializer = 'he_normal')(conv5)\n",
    "drop5 = Dropout(0.5)(conv5)\n",
    "\n",
    "up6 = Conv2D(128, 2, activation = 'relu', padding = 'same', kernel_initializer = 'he_normal')(UpSampling2D(size = (2,2))(drop5))\n",
    "merge6 = concatenate([drop4,up6], axis = 3)\n",
    "conv6 = Conv2D(128, 3, activation = 'relu', padding = 'same', kernel_initializer = 'he_normal')(merge6)\n",
    "conv6 = Conv2D(128, 3, activation = 'relu', padding = 'same', kernel_initializer = 'he_normal')(conv6)\n",
    "\n",
    "up7 = Conv2D(64, 2, activation = 'relu', padding = 'same', kernel_initializer = 'he_normal')(UpSampling2D(size = (2,2))(conv6))\n",
    "merge7 = concatenate([conv3,up7], axis = 3)\n",
    "conv7 = Conv2D(64, 3, activation = 'relu', padding = 'same', kernel_initializer = 'he_normal')(merge7)\n",
    "conv7 = Conv2D(64, 3, activation = 'relu', padding = 'same', kernel_initializer = 'he_normal')(conv7)\n",
    "\n",
    "up8 = Conv2D(32, 2, activation = 'relu', padding = 'same', kernel_initializer = 'he_normal')(UpSampling2D(size = (2,2))(conv7))\n",
    "merge8 = concatenate([conv2,up8], axis = 3)\n",
    "conv8 = Conv2D(32, 3, activation = 'relu', padding = 'same', kernel_initializer = 'he_normal')(merge8)\n",
    "conv8 = Conv2D(32, 3, activation = 'relu', padding = 'same', kernel_initializer = 'he_normal')(conv8)\n",
    "\n",
    "up9 = Conv2D(16, 2, activation = 'relu', padding = 'same', kernel_initializer = 'he_normal')(UpSampling2D(size = (2,2))(conv8))\n",
    "merge9 = concatenate([conv1,up9], axis = 3)\n",
    "conv9 = Conv2D(16, 3, activation = 'relu', padding = 'same', kernel_initializer = 'he_normal')(merge9)\n",
    "conv9 = Conv2D(16, 3, activation = 'relu', padding = 'same', kernel_initializer = 'he_normal')(conv9)\n",
    "conv9 = Conv2D(2, 3, activation = 'relu', padding = 'same', kernel_initializer = 'he_normal')(conv9)\n",
    "conv10 = Conv2D(nb_class, 1, activation = 'softmax')(conv9)\n",
    "\n",
    "model = Model(inputs = inputs, outputs = conv10)"
   ]
  },
  {
   "cell_type": "code",
   "execution_count": 49,
   "metadata": {},
   "outputs": [],
   "source": [
    "# Compile with a decremental optimizer\n",
    "# lr decrease by a factor of 0.5 every 30 epoch\n",
    "def lr_step_decay(epoch, lr):\n",
    "    initial_learning_rate = 1e-2\n",
    "    drop_rate = 0.8\n",
    "    epochs_drop = 8\n",
    "    lr = initial_learning_rate * np.power(drop_rate, np.floor(epoch/epochs_drop))\n",
    "    return lr\n",
    "\n",
    "model.compile(optimizer=tf.keras.optimizers.Adam(learning_rate=1e-2),\n",
    "              loss=tf.keras.losses.SparseCategoricalCrossentropy(), \n",
    "              metrics=['SparseCategoricalAccuracy'])"
   ]
  },
  {
   "cell_type": "code",
   "execution_count": 6,
   "metadata": {},
   "outputs": [],
   "source": [
    "model.compile(optimizer=tf.keras.optimizers.Adam(learning_rate=1e-3),\n",
    "              loss=tf.keras.losses.SparseCategoricalCrossentropy(), \n",
    "              metrics=['SparseCategoricalAccuracy'])"
   ]
  },
  {
   "cell_type": "code",
   "execution_count": 7,
   "metadata": {},
   "outputs": [
    {
     "name": "stdout",
     "output_type": "stream",
     "text": [
      "Epoch 1/30\n"
     ]
    },
    {
     "name": "stderr",
     "output_type": "stream",
     "text": [
      "2023-04-21 11:56:23.849274: W tensorflow/core/platform/profile_utils/cpu_utils.cc:128] Failed to get CPU frequency: 0 Hz\n",
      "2023-04-21 11:56:24.619624: I tensorflow/core/grappler/optimizers/custom_graph_optimizer_registry.cc:114] Plugin optimizer for device_type GPU is enabled.\n"
     ]
    },
    {
     "name": "stdout",
     "output_type": "stream",
     "text": [
      "100/100 [==============================] - 30s 275ms/step - loss: 0.2185 - sparse_categorical_accuracy: 0.9162\n",
      "Epoch 2/30\n",
      "100/100 [==============================] - 27s 266ms/step - loss: 0.1590 - sparse_categorical_accuracy: 0.9474\n",
      "Epoch 3/30\n",
      "100/100 [==============================] - 27s 268ms/step - loss: 0.1219 - sparse_categorical_accuracy: 0.9661\n",
      "Epoch 4/30\n",
      "100/100 [==============================] - 26s 263ms/step - loss: 0.1272 - sparse_categorical_accuracy: 0.9649\n",
      "Epoch 5/30\n",
      "100/100 [==============================] - 27s 266ms/step - loss: 0.1128 - sparse_categorical_accuracy: 0.9709\n",
      "Epoch 6/30\n",
      "100/100 [==============================] - 26s 260ms/step - loss: 0.1187 - sparse_categorical_accuracy: 0.9679\n",
      "Epoch 7/30\n",
      "100/100 [==============================] - 28s 278ms/step - loss: 0.0956 - sparse_categorical_accuracy: 0.9752\n",
      "Epoch 8/30\n",
      "100/100 [==============================] - 27s 269ms/step - loss: 0.1003 - sparse_categorical_accuracy: 0.9740\n",
      "Epoch 9/30\n",
      "100/100 [==============================] - 26s 264ms/step - loss: 0.0815 - sparse_categorical_accuracy: 0.9800\n",
      "Epoch 10/30\n",
      "100/100 [==============================] - 27s 265ms/step - loss: 0.0715 - sparse_categorical_accuracy: 0.9830\n",
      "Epoch 11/30\n",
      "100/100 [==============================] - 26s 262ms/step - loss: 0.0613 - sparse_categorical_accuracy: 0.9859\n",
      "Epoch 12/30\n",
      "100/100 [==============================] - 26s 262ms/step - loss: 0.0492 - sparse_categorical_accuracy: 0.9897\n",
      "Epoch 13/30\n",
      "100/100 [==============================] - 26s 263ms/step - loss: 0.0449 - sparse_categorical_accuracy: 0.9909\n",
      "Epoch 14/30\n",
      "100/100 [==============================] - 26s 265ms/step - loss: 0.0379 - sparse_categorical_accuracy: 0.9928\n",
      "Epoch 15/30\n",
      "100/100 [==============================] - 26s 264ms/step - loss: 0.0358 - sparse_categorical_accuracy: 0.9930\n",
      "Epoch 16/30\n",
      "100/100 [==============================] - 26s 264ms/step - loss: 0.0329 - sparse_categorical_accuracy: 0.9935\n",
      "Epoch 17/30\n",
      "100/100 [==============================] - 26s 265ms/step - loss: 0.0319 - sparse_categorical_accuracy: 0.9933\n",
      "Epoch 18/30\n",
      "100/100 [==============================] - 26s 265ms/step - loss: 0.0316 - sparse_categorical_accuracy: 0.9930\n",
      "Epoch 19/30\n",
      "100/100 [==============================] - 27s 267ms/step - loss: 0.0280 - sparse_categorical_accuracy: 0.9939\n",
      "Epoch 20/30\n",
      "100/100 [==============================] - 27s 266ms/step - loss: 0.0274 - sparse_categorical_accuracy: 0.9938\n",
      "Epoch 21/30\n",
      "100/100 [==============================] - 27s 270ms/step - loss: 0.0232 - sparse_categorical_accuracy: 0.9951\n",
      "Epoch 22/30\n",
      "100/100 [==============================] - 27s 267ms/step - loss: 0.0242 - sparse_categorical_accuracy: 0.9944\n",
      "Epoch 23/30\n",
      "100/100 [==============================] - 27s 270ms/step - loss: 0.0165 - sparse_categorical_accuracy: 0.9948\n",
      "Epoch 24/30\n",
      "100/100 [==============================] - 27s 271ms/step - loss: 0.0130 - sparse_categorical_accuracy: 0.9949\n",
      "Epoch 25/30\n",
      "100/100 [==============================] - 27s 269ms/step - loss: 0.0122 - sparse_categorical_accuracy: 0.9951\n",
      "Epoch 26/30\n",
      "100/100 [==============================] - 27s 267ms/step - loss: 0.0110 - sparse_categorical_accuracy: 0.9956\n",
      "Epoch 27/30\n",
      "100/100 [==============================] - 27s 269ms/step - loss: 0.0105 - sparse_categorical_accuracy: 0.9957\n",
      "Epoch 28/30\n",
      "100/100 [==============================] - 27s 271ms/step - loss: 0.0112 - sparse_categorical_accuracy: 0.9955\n",
      "Epoch 29/30\n",
      "100/100 [==============================] - 27s 269ms/step - loss: 0.0103 - sparse_categorical_accuracy: 0.9958\n",
      "Epoch 30/30\n",
      "100/100 [==============================] - 27s 269ms/step - loss: 0.0096 - sparse_categorical_accuracy: 0.9961\n"
     ]
    }
   ],
   "source": [
    "log_dir = \"logs/\" + datetime.now().strftime(\"%Y%m%d-%H%M%S\")\n",
    "# tensorboard --logdir logs\n",
    "callbacks = [#tf.keras.callbacks.EarlyStopping(monitor='loss', patience=5),\n",
    "             #tf.keras.callbacks.LearningRateScheduler(lr_step_decay),\n",
    "             tf.keras.callbacks.TensorBoard(log_dir=log_dir, histogram_freq=1)]\n",
    "\n",
    "history = model.fit(\n",
    "    train_ds,\n",
    "    steps_per_epoch=100,\n",
    "    epochs=30,\n",
    "    callbacks=callbacks\n",
    ")"
   ]
  },
  {
   "cell_type": "code",
   "execution_count": 8,
   "metadata": {},
   "outputs": [],
   "source": [
    "model.save('../Models/UNET_masks.h5')"
   ]
  },
  {
   "cell_type": "code",
   "execution_count": 11,
   "metadata": {},
   "outputs": [
    {
     "name": "stdout",
     "output_type": "stream",
     "text": [
      "Accuracy : 0.9961060881614685\n",
      "Loss : 0.009555608965456486\n"
     ]
    }
   ],
   "source": [
    "print('Accuracy :', history.history['sparse_categorical_accuracy'][-1])\n",
    "print('Loss :', history.history['loss'][-1])"
   ]
  },
  {
   "cell_type": "code",
   "execution_count": 9,
   "metadata": {},
   "outputs": [
    {
     "data": {
      "image/png": "[encoded data removed]",
      "text/plain": [
       "<Figure size 500x500 with 2 Axes>"
      ]
     },
     "metadata": {},
     "output_type": "display_data"
    }
   ],
   "source": [
    "def learning_curves(history):\n",
    "    acc = history.history['sparse_categorical_accuracy']\n",
    "    loss = history.history['loss']\n",
    "    epochs_range = history.epoch\n",
    "\n",
    "    plt.figure(figsize=(5, 5))\n",
    "    plt.subplot(1, 2, 1)\n",
    "    plt.plot(epochs_range, acc, label='Training Accuracy')\n",
    "    plt.legend(loc='lower right')\n",
    "    plt.title('Training Accuracy')\n",
    "\n",
    "    plt.subplot(1, 2, 2)\n",
    "    plt.plot(epochs_range, loss, label='Training Loss')\n",
    "    plt.legend(loc='upper right')\n",
    "    plt.title('Training Loss')\n",
    "    plt.show()\n",
    "    \n",
    "learning_curves(history)"
   ]
  },
  {
   "attachments": {},
   "cell_type": "markdown",
   "metadata": {},
   "source": [
    "### Un super Mask !!!"
   ]
  },
  {
   "cell_type": "code",
   "execution_count": null,
   "metadata": {},
   "outputs": [],
   "source": []
  }
 ],
 "metadata": {
  "kernelspec": {
   "display_name": "ml",
   "language": "python",
   "name": "python3"
  },
  "language_info": {
   "codemirror_mode": {
    "name": "ipython",
    "version": 3
   },
   "file_extension": ".py",
   "mimetype": "text/x-python",
   "name": "python",
   "nbconvert_exporter": "python",
   "pygments_lexer": "ipython3",
   "version": "3.11.2"
  },
  "orig_nbformat": 4
 },
 "nbformat": 4,
 "nbformat_minor": 2
}
