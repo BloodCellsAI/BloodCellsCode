{
 "cells": [
  {
   "cell_type": "code",
   "execution_count": 1,
   "metadata": {},
   "outputs": [],
   "source": [
    "import os\n",
    "from pathlib import Path, PurePath\n",
    "import pandas as pd\n",
    "import numpy as np\n",
    "import cv2\n",
    "import re\n",
    "import matplotlib.pyplot as plt\n",
    "import seaborn as sns\n",
    "from tqdm import tqdm\n",
    "%matplotlib inline"
   ]
  },
  {
   "cell_type": "code",
   "execution_count": 2,
   "metadata": {},
   "outputs": [],
   "source": [
    "input_folder = Path(\"../Data/PBC/\")"
   ]
  },
  {
   "cell_type": "code",
   "execution_count": 15,
   "metadata": {},
   "outputs": [
    {
     "name": "stdout",
     "output_type": "stream",
     "text": [
      "17092 .jpg files in input_folder\n"
     ]
    },
    {
     "data": {
      "text/plain": [
       "PosixPath('../Data/PBC/platelet/PLATELET_499850.jpg')"
      ]
     },
     "execution_count": 15,
     "metadata": {},
     "output_type": "execute_result"
    }
   ],
   "source": [
    "file_list = [x for x in input_folder.glob('**/*.jpg') if x.is_file() and not x.name.startswith('.') ]\n",
    "print(len(file_list), \".jpg files in input_folder\")\n",
    "file_list[-1]"
   ]
  },
  {
   "cell_type": "code",
   "execution_count": 16,
   "metadata": {},
   "outputs": [],
   "source": [
    "def photo_parser(photo_path):\n",
    "    \"\"\"\n",
    "    Parse a photo_path and identify photo attributes as:\n",
    "    cell_type : str, name of directory ex: basophil, eosinophil, ....\n",
    "    cell_code : str, prefix of file ex: BA, EO, ERB, .....\n",
    "    Photo_id : str, id of photo file\n",
    "    Photo_path : PosixPath\n",
    "    Return values in a dict\n",
    "    \"\"\"\n",
    "    path_list = str(photo_path).split(\"/\") # list\n",
    "    cell_type = str(photo_path).split(\"/\")[-2]\n",
    "    cell_code = list(filter(lambda v: re.match('.*jpg', v), path_list))[0].split('_')[0]\n",
    "    Photo_id = list(filter(lambda v: re.match('.*jpg', v), path_list))[0].split('.')[0]\n",
    "    d = {\n",
    "        'Cell_type' : cell_type,\n",
    "        'Cell_code' : cell_code,\n",
    "        'Photo_id': Photo_id,\n",
    "        'Photo_path': photo_path\n",
    "    }\n",
    "    return d"
   ]
  },
  {
   "cell_type": "code",
   "execution_count": 17,
   "metadata": {},
   "outputs": [
    {
     "name": "stdout",
     "output_type": "stream",
     "text": [
      "17092 photos imported over 17092 (100.0 %) photos in ../Data/PBC\n"
     ]
    }
   ],
   "source": [
    "i = 0\n",
    "total_to_import = len(file_list)\n",
    "dataset = []\n",
    "for photo_path in file_list:\n",
    "    photo = photo_parser(photo_path)\n",
    "    dataset.append(photo)\n",
    "    i += 1\n",
    "\n",
    "print(f'{i} photos imported over {total_to_import} ({round(100*i/total_to_import, 2)} %) photos in {input_folder}')\n",
    "# Import du dataset dans une DF\n",
    "df = pd.DataFrame(dataset)"
   ]
  },
  {
   "cell_type": "code",
   "execution_count": 18,
   "metadata": {},
   "outputs": [
    {
     "name": "stdout",
     "output_type": "stream",
     "text": [
      "(17092, 4)\n"
     ]
    },
    {
     "data": {
      "text/html": [
       "<div>\n",
       "<style scoped>\n",
       "    .dataframe tbody tr th:only-of-type {\n",
       "        vertical-align: middle;\n",
       "    }\n",
       "\n",
       "    .dataframe tbody tr th {\n",
       "        vertical-align: top;\n",
       "    }\n",
       "\n",
       "    .dataframe thead th {\n",
       "        text-align: right;\n",
       "    }\n",
       "</style>\n",
       "<table border=\"1\" class=\"dataframe\">\n",
       "  <thead>\n",
       "    <tr style=\"text-align: right;\">\n",
       "      <th></th>\n",
       "      <th>Cell_type</th>\n",
       "      <th>Cell_code</th>\n",
       "      <th>Photo_id</th>\n",
       "      <th>Photo_path</th>\n",
       "    </tr>\n",
       "  </thead>\n",
       "  <tbody>\n",
       "    <tr>\n",
       "      <th>0</th>\n",
       "      <td>basophil</td>\n",
       "      <td>BA</td>\n",
       "      <td>BA_689200</td>\n",
       "      <td>../Data/PBC/basophil/BA_689200.jpg</td>\n",
       "    </tr>\n",
       "    <tr>\n",
       "      <th>1</th>\n",
       "      <td>basophil</td>\n",
       "      <td>BA</td>\n",
       "      <td>BA_883452</td>\n",
       "      <td>../Data/PBC/basophil/BA_883452.jpg</td>\n",
       "    </tr>\n",
       "    <tr>\n",
       "      <th>2</th>\n",
       "      <td>basophil</td>\n",
       "      <td>BA</td>\n",
       "      <td>BA_382161</td>\n",
       "      <td>../Data/PBC/basophil/BA_382161.jpg</td>\n",
       "    </tr>\n",
       "    <tr>\n",
       "      <th>3</th>\n",
       "      <td>basophil</td>\n",
       "      <td>BA</td>\n",
       "      <td>BA_175579</td>\n",
       "      <td>../Data/PBC/basophil/BA_175579.jpg</td>\n",
       "    </tr>\n",
       "    <tr>\n",
       "      <th>4</th>\n",
       "      <td>basophil</td>\n",
       "      <td>BA</td>\n",
       "      <td>BA_775722</td>\n",
       "      <td>../Data/PBC/basophil/BA_775722.jpg</td>\n",
       "    </tr>\n",
       "  </tbody>\n",
       "</table>\n",
       "</div>"
      ],
      "text/plain": [
       "  Cell_type Cell_code   Photo_id                          Photo_path\n",
       "0  basophil        BA  BA_689200  ../Data/PBC/basophil/BA_689200.jpg\n",
       "1  basophil        BA  BA_883452  ../Data/PBC/basophil/BA_883452.jpg\n",
       "2  basophil        BA  BA_382161  ../Data/PBC/basophil/BA_382161.jpg\n",
       "3  basophil        BA  BA_175579  ../Data/PBC/basophil/BA_175579.jpg\n",
       "4  basophil        BA  BA_775722  ../Data/PBC/basophil/BA_775722.jpg"
      ]
     },
     "execution_count": 18,
     "metadata": {},
     "output_type": "execute_result"
    }
   ],
   "source": [
    "print(df.shape)\n",
    "df.head()"
   ]
  },
  {
   "cell_type": "code",
   "execution_count": 19,
   "metadata": {},
   "outputs": [
    {
     "data": {
      "text/plain": [
       "Cell_type     False\n",
       "Cell_code     False\n",
       "Photo_id      False\n",
       "Photo_path    False\n",
       "dtype: bool"
      ]
     },
     "execution_count": 19,
     "metadata": {},
     "output_type": "execute_result"
    }
   ],
   "source": [
    "df.isna().any()"
   ]
  },
  {
   "attachments": {},
   "cell_type": "markdown",
   "metadata": {},
   "source": [
    "Statistiques sur les images"
   ]
  },
  {
   "cell_type": "code",
   "execution_count": 21,
   "metadata": {},
   "outputs": [],
   "source": [
    "def images_stats(photo_path):\n",
    "    \"\"\"\n",
    "    Load an image from photo_path and compute :\n",
    "    H : Height of the image\n",
    "    W: Width of the image\n",
    "    'col'_max : max value of channel 'col'\n",
    "    'col'_min : min value of chenel 'col\n",
    "    'col'_mean : mean value of chanel 'col'\n",
    "    \"\"\"\n",
    "    #print(photo_path)\n",
    "    img = cv2.imread(str(photo_path), cv2.IMREAD_COLOR)\n",
    "    img = cv2.cvtColor(img, cv2.COLOR_RGB2BGR)\n",
    "    #plt.imshow(img);\n",
    "    \n",
    "    d = {}\n",
    "    for i in range(2):\n",
    "        d[str('H')] = img.shape[0]\n",
    "        d[str('W')] = img.shape[1]\n",
    "\n",
    "    colors = ['red', 'green', 'blue']\n",
    "    for i, col in enumerate(colors):\n",
    "        d[str(col + '_' + 'max')] = np.max(img[:,:,i])\n",
    "        d[str(col + '_' + 'min')] = np.min(img[:,:,i])\n",
    "        d[str(col + '_' + 'mean')] = np.mean(img[:,:,i])\n",
    "        #d[str(col + '_' + 'hist')] = cv2.calcHist(img,[i],None,[256],[0,256])\n",
    "\n",
    "    return d"
   ]
  },
  {
   "cell_type": "code",
   "execution_count": 22,
   "metadata": {},
   "outputs": [],
   "source": [
    "stats_df = df['Photo_path'].apply(lambda x: pd.Series(images_stats(x)))"
   ]
  },
  {
   "cell_type": "code",
   "execution_count": 23,
   "metadata": {},
   "outputs": [
    {
     "data": {
      "text/html": [
       "<div>\n",
       "<style scoped>\n",
       "    .dataframe tbody tr th:only-of-type {\n",
       "        vertical-align: middle;\n",
       "    }\n",
       "\n",
       "    .dataframe tbody tr th {\n",
       "        vertical-align: top;\n",
       "    }\n",
       "\n",
       "    .dataframe thead th {\n",
       "        text-align: right;\n",
       "    }\n",
       "</style>\n",
       "<table border=\"1\" class=\"dataframe\">\n",
       "  <thead>\n",
       "    <tr style=\"text-align: right;\">\n",
       "      <th></th>\n",
       "      <th>H</th>\n",
       "      <th>W</th>\n",
       "      <th>red_max</th>\n",
       "      <th>red_min</th>\n",
       "      <th>red_mean</th>\n",
       "      <th>green_max</th>\n",
       "      <th>green_min</th>\n",
       "      <th>green_mean</th>\n",
       "      <th>blue_max</th>\n",
       "      <th>blue_min</th>\n",
       "      <th>blue_mean</th>\n",
       "    </tr>\n",
       "  </thead>\n",
       "  <tbody>\n",
       "    <tr>\n",
       "      <th>0</th>\n",
       "      <td>363.0</td>\n",
       "      <td>360.0</td>\n",
       "      <td>255.0</td>\n",
       "      <td>38.0</td>\n",
       "      <td>220.775620</td>\n",
       "      <td>251.0</td>\n",
       "      <td>0.0</td>\n",
       "      <td>186.915060</td>\n",
       "      <td>216.0</td>\n",
       "      <td>91.0</td>\n",
       "      <td>183.087473</td>\n",
       "    </tr>\n",
       "    <tr>\n",
       "      <th>1</th>\n",
       "      <td>363.0</td>\n",
       "      <td>360.0</td>\n",
       "      <td>255.0</td>\n",
       "      <td>43.0</td>\n",
       "      <td>217.682828</td>\n",
       "      <td>243.0</td>\n",
       "      <td>0.0</td>\n",
       "      <td>185.541889</td>\n",
       "      <td>223.0</td>\n",
       "      <td>92.0</td>\n",
       "      <td>183.007713</td>\n",
       "    </tr>\n",
       "    <tr>\n",
       "      <th>2</th>\n",
       "      <td>369.0</td>\n",
       "      <td>366.0</td>\n",
       "      <td>255.0</td>\n",
       "      <td>12.0</td>\n",
       "      <td>209.731159</td>\n",
       "      <td>243.0</td>\n",
       "      <td>2.0</td>\n",
       "      <td>187.798829</td>\n",
       "      <td>252.0</td>\n",
       "      <td>106.0</td>\n",
       "      <td>211.670932</td>\n",
       "    </tr>\n",
       "    <tr>\n",
       "      <th>3</th>\n",
       "      <td>363.0</td>\n",
       "      <td>360.0</td>\n",
       "      <td>255.0</td>\n",
       "      <td>40.0</td>\n",
       "      <td>221.362297</td>\n",
       "      <td>246.0</td>\n",
       "      <td>0.0</td>\n",
       "      <td>191.259504</td>\n",
       "      <td>221.0</td>\n",
       "      <td>89.0</td>\n",
       "      <td>182.384320</td>\n",
       "    </tr>\n",
       "    <tr>\n",
       "      <th>4</th>\n",
       "      <td>363.0</td>\n",
       "      <td>360.0</td>\n",
       "      <td>255.0</td>\n",
       "      <td>40.0</td>\n",
       "      <td>231.950077</td>\n",
       "      <td>251.0</td>\n",
       "      <td>0.0</td>\n",
       "      <td>201.820669</td>\n",
       "      <td>219.0</td>\n",
       "      <td>90.0</td>\n",
       "      <td>188.984519</td>\n",
       "    </tr>\n",
       "  </tbody>\n",
       "</table>\n",
       "</div>"
      ],
      "text/plain": [
       "       H      W  red_max  red_min    red_mean  green_max  green_min  \\\n",
       "0  363.0  360.0    255.0     38.0  220.775620      251.0        0.0   \n",
       "1  363.0  360.0    255.0     43.0  217.682828      243.0        0.0   \n",
       "2  369.0  366.0    255.0     12.0  209.731159      243.0        2.0   \n",
       "3  363.0  360.0    255.0     40.0  221.362297      246.0        0.0   \n",
       "4  363.0  360.0    255.0     40.0  231.950077      251.0        0.0   \n",
       "\n",
       "   green_mean  blue_max  blue_min   blue_mean  \n",
       "0  186.915060     216.0      91.0  183.087473  \n",
       "1  185.541889     223.0      92.0  183.007713  \n",
       "2  187.798829     252.0     106.0  211.670932  \n",
       "3  191.259504     221.0      89.0  182.384320  \n",
       "4  201.820669     219.0      90.0  188.984519  "
      ]
     },
     "execution_count": 23,
     "metadata": {},
     "output_type": "execute_result"
    }
   ],
   "source": [
    "stats_df.head()"
   ]
  },
  {
   "cell_type": "code",
   "execution_count": 24,
   "metadata": {},
   "outputs": [
    {
     "name": "stdout",
     "output_type": "stream",
     "text": [
      "(17092, 15)\n"
     ]
    },
    {
     "data": {
      "text/html": [
       "<div>\n",
       "<style scoped>\n",
       "    .dataframe tbody tr th:only-of-type {\n",
       "        vertical-align: middle;\n",
       "    }\n",
       "\n",
       "    .dataframe tbody tr th {\n",
       "        vertical-align: top;\n",
       "    }\n",
       "\n",
       "    .dataframe thead th {\n",
       "        text-align: right;\n",
       "    }\n",
       "</style>\n",
       "<table border=\"1\" class=\"dataframe\">\n",
       "  <thead>\n",
       "    <tr style=\"text-align: right;\">\n",
       "      <th></th>\n",
       "      <th>Cell_type</th>\n",
       "      <th>Cell_code</th>\n",
       "      <th>Photo_id</th>\n",
       "      <th>Photo_path</th>\n",
       "      <th>H</th>\n",
       "      <th>W</th>\n",
       "      <th>red_max</th>\n",
       "      <th>red_min</th>\n",
       "      <th>red_mean</th>\n",
       "      <th>green_max</th>\n",
       "      <th>green_min</th>\n",
       "      <th>green_mean</th>\n",
       "      <th>blue_max</th>\n",
       "      <th>blue_min</th>\n",
       "      <th>blue_mean</th>\n",
       "    </tr>\n",
       "  </thead>\n",
       "  <tbody>\n",
       "    <tr>\n",
       "      <th>0</th>\n",
       "      <td>basophil</td>\n",
       "      <td>BA</td>\n",
       "      <td>BA_689200</td>\n",
       "      <td>../Data/PBC/basophil/BA_689200.jpg</td>\n",
       "      <td>363.0</td>\n",
       "      <td>360.0</td>\n",
       "      <td>255.0</td>\n",
       "      <td>38.0</td>\n",
       "      <td>220.775620</td>\n",
       "      <td>251.0</td>\n",
       "      <td>0.0</td>\n",
       "      <td>186.915060</td>\n",
       "      <td>216.0</td>\n",
       "      <td>91.0</td>\n",
       "      <td>183.087473</td>\n",
       "    </tr>\n",
       "    <tr>\n",
       "      <th>1</th>\n",
       "      <td>basophil</td>\n",
       "      <td>BA</td>\n",
       "      <td>BA_883452</td>\n",
       "      <td>../Data/PBC/basophil/BA_883452.jpg</td>\n",
       "      <td>363.0</td>\n",
       "      <td>360.0</td>\n",
       "      <td>255.0</td>\n",
       "      <td>43.0</td>\n",
       "      <td>217.682828</td>\n",
       "      <td>243.0</td>\n",
       "      <td>0.0</td>\n",
       "      <td>185.541889</td>\n",
       "      <td>223.0</td>\n",
       "      <td>92.0</td>\n",
       "      <td>183.007713</td>\n",
       "    </tr>\n",
       "    <tr>\n",
       "      <th>2</th>\n",
       "      <td>basophil</td>\n",
       "      <td>BA</td>\n",
       "      <td>BA_382161</td>\n",
       "      <td>../Data/PBC/basophil/BA_382161.jpg</td>\n",
       "      <td>369.0</td>\n",
       "      <td>366.0</td>\n",
       "      <td>255.0</td>\n",
       "      <td>12.0</td>\n",
       "      <td>209.731159</td>\n",
       "      <td>243.0</td>\n",
       "      <td>2.0</td>\n",
       "      <td>187.798829</td>\n",
       "      <td>252.0</td>\n",
       "      <td>106.0</td>\n",
       "      <td>211.670932</td>\n",
       "    </tr>\n",
       "    <tr>\n",
       "      <th>3</th>\n",
       "      <td>basophil</td>\n",
       "      <td>BA</td>\n",
       "      <td>BA_175579</td>\n",
       "      <td>../Data/PBC/basophil/BA_175579.jpg</td>\n",
       "      <td>363.0</td>\n",
       "      <td>360.0</td>\n",
       "      <td>255.0</td>\n",
       "      <td>40.0</td>\n",
       "      <td>221.362297</td>\n",
       "      <td>246.0</td>\n",
       "      <td>0.0</td>\n",
       "      <td>191.259504</td>\n",
       "      <td>221.0</td>\n",
       "      <td>89.0</td>\n",
       "      <td>182.384320</td>\n",
       "    </tr>\n",
       "    <tr>\n",
       "      <th>4</th>\n",
       "      <td>basophil</td>\n",
       "      <td>BA</td>\n",
       "      <td>BA_775722</td>\n",
       "      <td>../Data/PBC/basophil/BA_775722.jpg</td>\n",
       "      <td>363.0</td>\n",
       "      <td>360.0</td>\n",
       "      <td>255.0</td>\n",
       "      <td>40.0</td>\n",
       "      <td>231.950077</td>\n",
       "      <td>251.0</td>\n",
       "      <td>0.0</td>\n",
       "      <td>201.820669</td>\n",
       "      <td>219.0</td>\n",
       "      <td>90.0</td>\n",
       "      <td>188.984519</td>\n",
       "    </tr>\n",
       "  </tbody>\n",
       "</table>\n",
       "</div>"
      ],
      "text/plain": [
       "  Cell_type Cell_code   Photo_id                          Photo_path      H  \\\n",
       "0  basophil        BA  BA_689200  ../Data/PBC/basophil/BA_689200.jpg  363.0   \n",
       "1  basophil        BA  BA_883452  ../Data/PBC/basophil/BA_883452.jpg  363.0   \n",
       "2  basophil        BA  BA_382161  ../Data/PBC/basophil/BA_382161.jpg  369.0   \n",
       "3  basophil        BA  BA_175579  ../Data/PBC/basophil/BA_175579.jpg  363.0   \n",
       "4  basophil        BA  BA_775722  ../Data/PBC/basophil/BA_775722.jpg  363.0   \n",
       "\n",
       "       W  red_max  red_min    red_mean  green_max  green_min  green_mean  \\\n",
       "0  360.0    255.0     38.0  220.775620      251.0        0.0  186.915060   \n",
       "1  360.0    255.0     43.0  217.682828      243.0        0.0  185.541889   \n",
       "2  366.0    255.0     12.0  209.731159      243.0        2.0  187.798829   \n",
       "3  360.0    255.0     40.0  221.362297      246.0        0.0  191.259504   \n",
       "4  360.0    255.0     40.0  231.950077      251.0        0.0  201.820669   \n",
       "\n",
       "   blue_max  blue_min   blue_mean  \n",
       "0     216.0      91.0  183.087473  \n",
       "1     223.0      92.0  183.007713  \n",
       "2     252.0     106.0  211.670932  \n",
       "3     221.0      89.0  182.384320  \n",
       "4     219.0      90.0  188.984519  "
      ]
     },
     "execution_count": 24,
     "metadata": {},
     "output_type": "execute_result"
    }
   ],
   "source": [
    "PBC = pd.concat([df, stats_df], axis=1)\n",
    "print(PBC.shape)\n",
    "PBC.head()"
   ]
  },
  {
   "attachments": {},
   "cell_type": "markdown",
   "metadata": {},
   "source": [
    "Write csv file"
   ]
  },
  {
   "cell_type": "code",
   "execution_count": 25,
   "metadata": {},
   "outputs": [],
   "source": [
    "PBC.to_csv('../Data/PBC/PBC.csv', index=False)"
   ]
  },
  {
   "attachments": {},
   "cell_type": "markdown",
   "metadata": {},
   "source": [
    "## Séparation du jeu de données PBC en 11 classes et conversion en png"
   ]
  },
  {
   "cell_type": "code",
   "execution_count": 2,
   "metadata": {},
   "outputs": [
    {
     "name": "stderr",
     "output_type": "stream",
     "text": [
      "basophil: 1218it [00:10, 115.04it/s]\n",
      "neutrophil: 3330it [00:27, 119.03it/s]\n",
      "ig: 2895it [00:23, 123.47it/s]\n",
      "monocyte: 1420it [00:12, 115.63it/s]\n",
      "eosinophil: 3117it [00:26, 117.15it/s]\n",
      "erythroblast: 1551it [00:12, 119.72it/s]\n",
      "lymphocyte: 1214it [00:12, 99.80it/s] \n",
      "platelet: 2348it [00:19, 119.87it/s]\n"
     ]
    }
   ],
   "source": [
    "input_folder = Path('../Data/PBC')\n",
    "output_folder = Path('../Data/PBC_11cat')\n",
    "\n",
    "output_folder.mkdir(exist_ok=True)\n",
    "\n",
    "for subdir in input_folder.iterdir():\n",
    "    if subdir.is_dir():\n",
    "        for file in tqdm(subdir.iterdir(),  desc=f\"{subdir.parts[-1]}\"):\n",
    "            if file.is_file() and not file.name.startswith('.'):\n",
    "                tag = file.parts[-1].split('_')[0]\n",
    "                file_name = file.parts[-1].split('.')[0]\n",
    "                # rename PLATELET as PLT\n",
    "                if tag == 'PLATELET':\n",
    "                    tag = 'PLT'\n",
    "                    file_name = 'PLT_' + file_name.split('_')[-1]\n",
    "                # Exclusion de IG et Neutrophil car non clairement identifiés\n",
    "                if tag not in ['IG', 'NEUTROPHIL']:\n",
    "                    image = cv2.imread(str(file), cv2.IMREAD_COLOR)\n",
    "                    Path(output_folder / tag).mkdir(exist_ok=True)\n",
    "                    save_path = Path(output_folder / tag / str(str(file_name) + '.png'))\n",
    "                    # Convert the image in png and save\n",
    "                    cv2.imwrite(str(save_path), image)"
   ]
  },
  {
   "cell_type": "code",
   "execution_count": 3,
   "metadata": {},
   "outputs": [
    {
     "data": {
      "image/png": "[encoded data removed]",
      "text/plain": [
       "<Figure size 640x480 with 1 Axes>"
      ]
     },
     "metadata": {},
     "output_type": "display_data"
    }
   ],
   "source": [
    "path = input_folder\n",
    "\n",
    "subdirs = [name for name in os.listdir(path) if os.path.isdir(os.path.join(path, name))]\n",
    "\n",
    "# Count the number of files in each subdirectory\n",
    "file_counts = [len(os.listdir(os.path.join(path, subdir))) for subdir in subdirs]\n",
    "\n",
    "sns.set_style(\"whitegrid\")\n",
    "sns.barplot(x=subdirs, y=file_counts)\n",
    "plt.ylabel(\"Nombre d'image\")\n",
    "plt.title(\"Distribution des donnees\")\n",
    "plt.xticks(rotation=45)\n",
    "plt.show()"
   ]
  },
  {
   "cell_type": "code",
   "execution_count": 53,
   "metadata": {},
   "outputs": [
    {
     "data": {
      "image/png": "[encoded data removed]",
      "text/plain": [
       "<Figure size 640x480 with 1 Axes>"
      ]
     },
     "metadata": {},
     "output_type": "display_data"
    }
   ],
   "source": [
    "path = output_folder\n",
    "\n",
    "subdirs = [name for name in os.listdir(path) if os.path.isdir(os.path.join(path, name))]\n",
    "\n",
    "# Count the number of files in each subdirectory\n",
    "file_counts = [len(os.listdir(os.path.join(path, subdir))) for subdir in subdirs]\n",
    "\n",
    "sns.set_style(\"whitegrid\")\n",
    "sns.barplot(x=subdirs, y=file_counts)\n",
    "plt.ylabel(\"Nombre d'image\")\n",
    "plt.title(\"Distribution des donnees\")\n",
    "plt.xticks(rotation=45)\n",
    "plt.show()"
   ]
  },
  {
   "attachments": {},
   "cell_type": "markdown",
   "metadata": {},
   "source": [
    "## Séparation du jeu de données PBC en 6 classes"
   ]
  },
  {
   "cell_type": "code",
   "execution_count": 2,
   "metadata": {},
   "outputs": [
    {
     "name": "stderr",
     "output_type": "stream",
     "text": [
      "basophil: 1218it [00:10, 119.42it/s]\n",
      "neutrophil: 3330it [00:00, 47513.86it/s]\n",
      "ig: 2895it [00:00, 47891.51it/s]\n",
      "monocyte: 1420it [00:11, 120.58it/s]\n",
      "eosinophil: 3117it [00:27, 111.72it/s]\n",
      "erythroblast: 1551it [00:12, 125.18it/s]\n",
      "lymphocyte: 1214it [00:10, 116.81it/s]\n",
      "platelet: 2348it [00:20, 115.65it/s]\n"
     ]
    }
   ],
   "source": [
    "input_folder = Path('../Data/PBC')\n",
    "output_folder = Path('../Data/PBC_6cat')\n",
    "\n",
    "output_folder.mkdir(exist_ok=True)\n",
    "\n",
    "for subdir in input_folder.iterdir():\n",
    "    if subdir.is_dir():\n",
    "        for file in tqdm(subdir.iterdir(),  desc=f\"{subdir.parts[-1]}\"):\n",
    "            if file.is_file() and not file.name.startswith('.'):\n",
    "                tag = file.parts[-2]\n",
    "                file_name = file.parts[-1].split('.')[0]\n",
    "                # Exclusion de IG et Neutrophil car non clairement identifiés\n",
    "                if tag not in ['ig', 'neutrophil']:\n",
    "                    image = cv2.imread(str(file), cv2.IMREAD_COLOR)\n",
    "                    Path(output_folder / tag).mkdir(exist_ok=True)\n",
    "                    save_path = Path(output_folder / tag / str(str(file_name) + '.png'))\n",
    "                    # Convert the image in png and save\n",
    "                    cv2.imwrite(str(save_path), image)"
   ]
  },
  {
   "cell_type": "code",
   "execution_count": 3,
   "metadata": {},
   "outputs": [
    {
     "data": {
      "image/png": "[encoded data removed]",
      "text/plain": [
       "<Figure size 640x480 with 1 Axes>"
      ]
     },
     "metadata": {},
     "output_type": "display_data"
    }
   ],
   "source": [
    "path = output_folder\n",
    "\n",
    "subdirs = [name for name in os.listdir(path) if os.path.isdir(os.path.join(path, name))]\n",
    "\n",
    "# Count the number of files in each subdirectory\n",
    "file_counts = [len(os.listdir(os.path.join(path, subdir))) for subdir in subdirs]\n",
    "\n",
    "sns.set_style(\"whitegrid\")\n",
    "sns.barplot(x=subdirs, y=file_counts)\n",
    "plt.ylabel(\"Nombre d'image\")\n",
    "plt.title(\"Distribution des donnees\")\n",
    "plt.xticks(rotation=45)\n",
    "plt.show()"
   ]
  },
  {
   "cell_type": "code",
   "execution_count": null,
   "metadata": {},
   "outputs": [],
   "source": []
  }
 ],
 "metadata": {
  "kernelspec": {
   "display_name": "ml",
   "language": "python",
   "name": "python3"
  },
  "language_info": {
   "codemirror_mode": {
    "name": "ipython",
    "version": 3
   },
   "file_extension": ".py",
   "mimetype": "text/x-python",
   "name": "python",
   "nbconvert_exporter": "python",
   "pygments_lexer": "ipython3",
   "version": "3.11.2"
  },
  "orig_nbformat": 4
 },
 "nbformat": 4,
 "nbformat_minor": 2
}
